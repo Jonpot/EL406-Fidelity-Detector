{
 "cells": [
  {
   "cell_type": "code",
   "execution_count": 8,
   "id": "a23ea498-fc66-4a72-a721-f589cbd268f8",
   "metadata": {},
   "outputs": [],
   "source": [
    "import cv2\n",
    "import numpy as np\n",
    "\n",
    "video_path = 'test.mjpeg'\n",
    "cap = cv2.VideoCapture(video_path)\n",
    "\n",
    "frames = []\n",
    "while cap.isOpened():\n",
    "    ret, frame = cap.read()\n",
    "    if not ret:\n",
    "        break\n",
    "    \n",
    "    gray_frame = cv2.cvtColor(frame, cv2.COLOR_BGR2GRAY)\n",
    "    frames.append(gray_frame)\n",
    "\n",
    "cap.release()\n",
    "\n",
    "# Convert the list of frames into a 3D numpy array (X x Y x Time)\n",
    "\n",
    "video_array = np.stack(frames, axis=-1)\n",
    "\n",
    "# video_array is the np array for each frame:\n",
    "\n",
    "X1, X2 = 0,640\n",
    "Y1, Y2 = 0,480  #640x480\n",
    "\n",
    "\n",
    "# Extract this region for all time frames\n",
    "\n",
    "\n",
    "# To find diff between frames: use stream.diff \n",
    "\n",
    "#stream_1_field = video_array[X1:X2, Y1:Y2, :]\n",
    "#stream_diff = np.diff(stream_1_field, axis=-1)\n",
    "\n"
   ]
  },
  {
   "cell_type": "code",
   "execution_count": 9,
   "id": "fa665925-a287-455b-8e0f-44c0a0471f98",
   "metadata": {},
   "outputs": [
    {
     "data": {
      "text/plain": [
       "array([[[ 21,  21,  20, ...,  25,  18,  23],\n",
       "        [ 28,  20,  19, ...,  29,  17,  20],\n",
       "        [ 24,  20,  18, ...,  25,  15,  16],\n",
       "        ...,\n",
       "        [138, 139, 137, ..., 134, 138, 137],\n",
       "        [134, 138, 137, ..., 132, 136, 137],\n",
       "        [132, 137, 136, ..., 131, 135, 136]],\n",
       "\n",
       "       [[ 21,  20,  19, ...,  23,  18,  22],\n",
       "        [ 27,  20,  18, ...,  27,  17,  20],\n",
       "        [ 23,  19,  17, ...,  23,  15,  16],\n",
       "        ...,\n",
       "        [137, 139, 137, ..., 134, 138, 137],\n",
       "        [135, 137, 136, ..., 132, 135, 136],\n",
       "        [134, 136, 135, ..., 131, 134, 135]],\n",
       "\n",
       "       [[ 21,  20,  17, ...,  19,  18,  21],\n",
       "        [ 24,  19,  17, ...,  24,  17,  19],\n",
       "        [ 22,  19,  15, ...,  21,  15,  17],\n",
       "        ...,\n",
       "        [135, 138, 136, ..., 134, 137, 136],\n",
       "        [136, 136, 135, ..., 132, 134, 135],\n",
       "        [136, 134, 134, ..., 131, 132, 134]],\n",
       "\n",
       "       ...,\n",
       "\n",
       "       [[ 27,  31,  29, ..., 127, 127, 127],\n",
       "        [ 27,  29,  28, ..., 127, 127, 127],\n",
       "        [ 27,  27,  26, ..., 127, 127, 127],\n",
       "        ...,\n",
       "        [ 82,  80,  82, ..., 110, 109, 110],\n",
       "        [ 81,  79,  80, ..., 111, 109, 111],\n",
       "        [ 80,  79,  80, ..., 112, 110, 112]],\n",
       "\n",
       "       [[ 31,  31,  29, ..., 127, 127, 127],\n",
       "        [ 30,  29,  28, ..., 127, 127, 127],\n",
       "        [ 29,  27,  26, ..., 127, 127, 127],\n",
       "        ...,\n",
       "        [ 78,  80,  82, ..., 110, 108, 110],\n",
       "        [ 76,  78,  80, ..., 111, 109, 111],\n",
       "        [ 75,  78,  79, ..., 112, 109, 112]],\n",
       "\n",
       "       [[ 33,  31,  29, ..., 127, 127, 127],\n",
       "        [ 32,  29,  28, ..., 127, 127, 127],\n",
       "        [ 30,  27,  26, ..., 127, 127, 127],\n",
       "        ...,\n",
       "        [ 74,  79,  81, ..., 110, 108, 110],\n",
       "        [ 72,  78,  80, ..., 111, 108, 111],\n",
       "        [ 70,  76,  78, ..., 112, 109, 112]]], dtype=uint8)"
      ]
     },
     "execution_count": 9,
     "metadata": {},
     "output_type": "execute_result"
    }
   ],
   "source": [
    "video_array"
   ]
  }
 ],
 "metadata": {
  "kernelspec": {
   "display_name": "Python 3 (ipykernel)",
   "language": "python",
   "name": "python3"
  },
  "language_info": {
   "codemirror_mode": {
    "name": "ipython",
    "version": 3
   },
   "file_extension": ".py",
   "mimetype": "text/x-python",
   "name": "python",
   "nbconvert_exporter": "python",
   "pygments_lexer": "ipython3",
   "version": "3.10.8"
  }
 },
 "nbformat": 4,
 "nbformat_minor": 5
}
